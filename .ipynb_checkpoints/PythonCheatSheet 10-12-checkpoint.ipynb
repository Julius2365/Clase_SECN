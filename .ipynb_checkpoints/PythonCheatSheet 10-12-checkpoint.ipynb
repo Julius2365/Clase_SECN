{
 "cells": [
  {
   "cell_type": "markdown",
   "id": "11dd2d18",
   "metadata": {},
   "source": [
    "# Python Cheatsheet 10 - 12"
   ]
  },
  {
   "cell_type": "markdown",
   "id": "76972f09",
   "metadata": {},
   "source": [
    "## Contents  \n",
    "10. <a href='#section10'>Working with datetime</a>\n",
    "11. <a href='#section11'>NumPy</a>\n",
    "12. <a href='#section12'>Pandas</a>"
   ]
  },
  {
   "cell_type": "markdown",
   "id": "e8d59c27",
   "metadata": {},
   "source": [
    "<a id='section10'></a>\n",
    "\n",
    "## 10. Working with datetime \n",
    "\n",
    "A `datetime` module in Python can be used to work with date objects."
   ]
  },
  {
   "cell_type": "code",
   "execution_count": null,
   "id": "3ebc2916",
   "metadata": {},
   "outputs": [],
   "source": [
    "import datetime\n",
    "\n",
    "x = datetime.datetime.now()\n",
    "\n",
    "print(x)\n",
    "print(x.year)\n",
    "print(x.strftime(\"%A\"))\n",
    "print(x.strftime(\"%B\"))\n",
    "print(x.strftime(\"%d\"))\n",
    "print(x.strftime(\"%H:%M:%S %p\"))"
   ]
  },
  {
   "cell_type": "markdown",
   "id": "d923e718",
   "metadata": {},
   "source": [
    "<a id='section11'></a>\n",
    "\n",
    "## 11. NumPy\n",
    "\n",
    "NumPy is the fundamental package for scientific computing with Python. Among other things, it contains:\n",
    "\n",
    "- Powerful N-dimensional array object\n",
    "- Sophisticated (broadcasting) functions\n",
    "- Tools for integrating C/C++ and Fortran code\n",
    "- Useful linear algebra, Fourier transform, and random number capabilities"
   ]
  },
  {
   "cell_type": "code",
   "execution_count": null,
   "id": "06df69f5",
   "metadata": {},
   "outputs": [],
   "source": [
    "# Install NumPy using pip\n",
    "!pip install numpy"
   ]
  },
  {
   "cell_type": "code",
   "execution_count": null,
   "id": "fb4d1525",
   "metadata": {},
   "outputs": [],
   "source": [
    "# Import NumPy module\n",
    "import numpy as np"
   ]
  },
  {
   "cell_type": "markdown",
   "id": "c6bd0ecd",
   "metadata": {},
   "source": [
    "### Inspecting your array"
   ]
  },
  {
   "cell_type": "code",
   "execution_count": null,
   "id": "06db0b25",
   "metadata": {},
   "outputs": [],
   "source": [
    "# Create array\n",
    "a = np.arange(15).reshape(3, 5) # Create array with range 0-14 in 3 by 5 dimension\n",
    "b = np.zeros((3,5)) # Create array with zeroes\n",
    "c = np.ones( (2,3,4), dtype=np.int16 ) # Createarray with ones and defining data types\n",
    "d = np.ones((3,5))"
   ]
  },
  {
   "cell_type": "code",
   "execution_count": null,
   "id": "49503eec",
   "metadata": {},
   "outputs": [],
   "source": [
    "a.shape # Array dimension"
   ]
  },
  {
   "cell_type": "code",
   "execution_count": null,
   "id": "635e7174",
   "metadata": {},
   "outputs": [],
   "source": [
    "len(b)# Length of array"
   ]
  },
  {
   "cell_type": "code",
   "execution_count": null,
   "id": "b185f205",
   "metadata": {},
   "outputs": [],
   "source": [
    "c.ndim # Number of array dimensions"
   ]
  },
  {
   "cell_type": "code",
   "execution_count": null,
   "id": "5eea0c90",
   "metadata": {},
   "outputs": [],
   "source": [
    "a.size # Number of array elements"
   ]
  },
  {
   "cell_type": "code",
   "execution_count": null,
   "id": "aa81e825",
   "metadata": {},
   "outputs": [],
   "source": [
    "b.dtype # Data type of array elements"
   ]
  },
  {
   "cell_type": "code",
   "execution_count": null,
   "id": "d5be368f",
   "metadata": {},
   "outputs": [],
   "source": [
    "c.dtype.name # Name of data type"
   ]
  },
  {
   "cell_type": "code",
   "execution_count": null,
   "id": "593a58cc",
   "metadata": {},
   "outputs": [],
   "source": [
    "c.astype(float) # Convert an array type to a different type"
   ]
  },
  {
   "cell_type": "markdown",
   "id": "86c283cc",
   "metadata": {},
   "source": [
    "### Basic math operations"
   ]
  },
  {
   "cell_type": "code",
   "execution_count": null,
   "id": "0dcf6f84",
   "metadata": {},
   "outputs": [],
   "source": [
    "# Create array\n",
    "a = np.arange(15).reshape(3, 5) # Create array with range 0-14 in 3 by 5 dimension\n",
    "b = np.zeros((3,5)) # Create array with zeroes\n",
    "c = np.ones( (2,3,4), dtype=np.int16 ) # Createarray with ones and defining data types\n",
    "d = np.ones((3,5))"
   ]
  },
  {
   "cell_type": "code",
   "execution_count": null,
   "id": "5b536971",
   "metadata": {},
   "outputs": [],
   "source": [
    "np.add(a,b) # Addition"
   ]
  },
  {
   "cell_type": "code",
   "execution_count": null,
   "id": "78867cc2",
   "metadata": {},
   "outputs": [],
   "source": [
    "np.subtract(a,b) # Substraction"
   ]
  },
  {
   "cell_type": "code",
   "execution_count": null,
   "id": "2b2d9821",
   "metadata": {},
   "outputs": [],
   "source": [
    "np.divide(a,d) # Division"
   ]
  },
  {
   "cell_type": "code",
   "execution_count": null,
   "id": "b85da8a3",
   "metadata": {},
   "outputs": [],
   "source": [
    "np.multiply(a,d) # Multiplication"
   ]
  },
  {
   "cell_type": "code",
   "execution_count": null,
   "id": "aac9378c",
   "metadata": {},
   "outputs": [],
   "source": [
    "np.array_equal(a,b) # Comparison - arraywise"
   ]
  },
  {
   "cell_type": "markdown",
   "id": "59b1c8b9",
   "metadata": {},
   "source": [
    "### Aggregate functions"
   ]
  },
  {
   "cell_type": "code",
   "execution_count": null,
   "id": "872c6525",
   "metadata": {},
   "outputs": [],
   "source": [
    "# Create array\n",
    "a = np.arange(15).reshape(3, 5) # Create array with range 0-14 in 3 by 5 dimension\n",
    "b = np.zeros((3,5)) # Create array with zeroes\n",
    "c = np.ones( (2,3,4), dtype=np.int16 ) # Createarray with ones and defining data types\n",
    "d = np.ones((3,5))"
   ]
  },
  {
   "cell_type": "code",
   "execution_count": null,
   "id": "349a097b",
   "metadata": {},
   "outputs": [],
   "source": [
    "a.sum() # Array-wise sum"
   ]
  },
  {
   "cell_type": "code",
   "execution_count": null,
   "id": "f33ce1aa",
   "metadata": {},
   "outputs": [],
   "source": [
    "a.min() # Array-wise min value"
   ]
  },
  {
   "cell_type": "code",
   "execution_count": null,
   "id": "81d1b5a7",
   "metadata": {},
   "outputs": [],
   "source": [
    "a.mean() # Array-wise mean"
   ]
  },
  {
   "cell_type": "code",
   "execution_count": null,
   "id": "a943b1de",
   "metadata": {},
   "outputs": [],
   "source": [
    "a.max(axis=0) # Max value of array row"
   ]
  },
  {
   "cell_type": "code",
   "execution_count": null,
   "id": "1956c560",
   "metadata": {},
   "outputs": [],
   "source": [
    "np.std(a) # Standard deviation"
   ]
  },
  {
   "cell_type": "markdown",
   "id": "d41daacb",
   "metadata": {},
   "source": [
    "### Subsetting, slicing, and indexing"
   ]
  },
  {
   "cell_type": "code",
   "execution_count": null,
   "id": "50abbc59",
   "metadata": {},
   "outputs": [],
   "source": [
    "# Create array\n",
    "a = np.arange(15).reshape(3, 5) # Create array with range 0-14 in 3 by 5 dimension\n",
    "b = np.zeros((3,5)) # Create array with zeroes\n",
    "c = np.ones( (2,3,4), dtype=np.int16 ) # Createarray with ones and defining data types\n",
    "d = np.ones((3,5))"
   ]
  },
  {
   "cell_type": "code",
   "execution_count": null,
   "id": "c8100ca1",
   "metadata": {},
   "outputs": [],
   "source": [
    "a[1,2] # Select element of row 1 and column 2"
   ]
  },
  {
   "cell_type": "code",
   "execution_count": null,
   "id": "0fa88448",
   "metadata": {},
   "outputs": [],
   "source": [
    "a[0:2] # Select items on index 0 and 1"
   ]
  },
  {
   "cell_type": "code",
   "execution_count": null,
   "id": "91129ef4",
   "metadata": {},
   "outputs": [],
   "source": [
    "a[:1] # Select all items at row 0"
   ]
  },
  {
   "cell_type": "code",
   "execution_count": null,
   "id": "d0eeed53",
   "metadata": {},
   "outputs": [],
   "source": [
    "a[-1:] # Select all items from last row"
   ]
  },
  {
   "cell_type": "code",
   "execution_count": null,
   "id": "1cf86293",
   "metadata": {},
   "outputs": [],
   "source": [
    "a[a<2] # Select elements from 'a' that are less than 2"
   ]
  },
  {
   "cell_type": "markdown",
   "id": "775fd038",
   "metadata": {},
   "source": [
    "### Array manipulation"
   ]
  },
  {
   "cell_type": "code",
   "execution_count": null,
   "id": "6dd58048",
   "metadata": {},
   "outputs": [],
   "source": [
    "# Create array\n",
    "a = np.arange(15).reshape(3, 5) # Create array with range 0-14 in 3 by 5 dimension\n",
    "b = np.zeros((3,5)) # Create array with zeroes\n",
    "c = np.ones( (2,3,4), dtype=np.int16 ) # Createarray with ones and defining data types\n",
    "d = np.ones((3,5))"
   ]
  },
  {
   "cell_type": "code",
   "execution_count": null,
   "id": "4269e2e9",
   "metadata": {},
   "outputs": [],
   "source": [
    "np.transpose(a) # Transpose array 'a'"
   ]
  },
  {
   "cell_type": "code",
   "execution_count": null,
   "id": "a64963e6",
   "metadata": {},
   "outputs": [],
   "source": [
    "a.ravel() # Flatten the array"
   ]
  },
  {
   "cell_type": "code",
   "execution_count": null,
   "id": "d3de2737",
   "metadata": {},
   "outputs": [],
   "source": [
    "a.reshape(5,-2) # Reshape but don't change the data"
   ]
  },
  {
   "cell_type": "code",
   "execution_count": null,
   "id": "a6f0f3d8",
   "metadata": {},
   "outputs": [],
   "source": [
    "np.append(a,b) # Append items to the array"
   ]
  },
  {
   "cell_type": "code",
   "execution_count": null,
   "id": "856423d2",
   "metadata": {},
   "outputs": [],
   "source": [
    "np.concatenate((a,d), axis=0) # Concatenate arrays"
   ]
  },
  {
   "cell_type": "code",
   "execution_count": null,
   "id": "fd9a3898",
   "metadata": {},
   "outputs": [],
   "source": [
    "np.vsplit(a,3) # Split array vertically at 3rd index"
   ]
  },
  {
   "cell_type": "code",
   "execution_count": null,
   "id": "da13c76c",
   "metadata": {},
   "outputs": [],
   "source": [
    "np.hsplit(a,5) # Split array horizontally at 5th index"
   ]
  },
  {
   "cell_type": "markdown",
   "id": "43b80b09",
   "metadata": {},
   "source": [
    "<a id='section12'></a>\n",
    "\n",
    "## 12. Pandas\n",
    "\n",
    "Pandas is an open source, BSD-licensed library providing high-performance, easy-to-use data structures and data analysis tools for the Python programming language.\n",
    "\n",
    "Pandas DataFrames are the most widely used in-memory representation of complex data collections within Python."
   ]
  },
  {
   "cell_type": "code",
   "execution_count": null,
   "id": "1cb1113d",
   "metadata": {},
   "outputs": [],
   "source": [
    "# Install pandas, xlrd, and openpyxl using pip\n",
    "!pip install pandas\n",
    "!pip install xlrd openpyxl"
   ]
  },
  {
   "cell_type": "code",
   "execution_count": null,
   "id": "fa718d6f",
   "metadata": {},
   "outputs": [],
   "source": [
    "# Import NumPy and Pandas modules\n",
    "import numpy as np\n",
    "import pandas as pd"
   ]
  },
  {
   "cell_type": "code",
   "execution_count": null,
   "id": "879d3a03",
   "metadata": {},
   "outputs": [],
   "source": [
    "# Sample dataframe df\n",
    "df = pd.DataFrame({'num_legs': [2, 4, np.nan, 0],\n",
    "                   'num_wings': [2, 0, 0, 0],\n",
    "                   'num_specimen_seen': [10, np.nan, 1, 8]},\n",
    "                   index=['falcon', 'dog', 'spider', 'fish'])\n",
    "df # Display dataframe df"
   ]
  },
  {
   "cell_type": "code",
   "execution_count": null,
   "id": "71082328",
   "metadata": {},
   "outputs": [],
   "source": [
    "# Another sample dataframe df1 - using NumPy array with datetime index and labeled column\n",
    "df1 = pd.date_range('20130101', periods=6)\n",
    "df1 = pd.DataFrame(np.random.randn(6, 4), index=df1, columns=list('ABCD'))\n",
    "df1 # Display dataframe df1"
   ]
  },
  {
   "cell_type": "markdown",
   "id": "b5ef616b",
   "metadata": {},
   "source": [
    "### Viewing data"
   ]
  },
  {
   "cell_type": "code",
   "execution_count": null,
   "id": "580a2136",
   "metadata": {},
   "outputs": [],
   "source": [
    "df1 = pd.date_range('20130101', periods=6)\n",
    "df1 = pd.DataFrame(np.random.randn(6, 4), index=df1, columns=list('ABCD'))"
   ]
  },
  {
   "cell_type": "code",
   "execution_count": null,
   "id": "0d8e0787",
   "metadata": {},
   "outputs": [],
   "source": [
    "df1.head(2) # View top data"
   ]
  },
  {
   "cell_type": "code",
   "execution_count": null,
   "id": "596a5cef",
   "metadata": {},
   "outputs": [],
   "source": [
    "df1.tail(2) # View bottom data"
   ]
  },
  {
   "cell_type": "code",
   "execution_count": null,
   "id": "8c33b501",
   "metadata": {},
   "outputs": [],
   "source": [
    "df1.index # Display index column"
   ]
  },
  {
   "cell_type": "code",
   "execution_count": null,
   "id": "627e69b9",
   "metadata": {},
   "outputs": [],
   "source": [
    "df1.dtypes # Inspect datatypes"
   ]
  },
  {
   "cell_type": "code",
   "execution_count": null,
   "id": "e0b36986",
   "metadata": {},
   "outputs": [],
   "source": [
    "df1.describe() # Display quick statistics summary of data"
   ]
  },
  {
   "cell_type": "markdown",
   "id": "8a7e44ca",
   "metadata": {},
   "source": [
    "### Subsetting, slicing, and indexing"
   ]
  },
  {
   "cell_type": "code",
   "execution_count": null,
   "id": "7a826e19",
   "metadata": {},
   "outputs": [],
   "source": [
    "df1 = pd.date_range('20130101', periods=6)\n",
    "df1 = pd.DataFrame(np.random.randn(6, 4), index=df1, columns=list('ABCD'))"
   ]
  },
  {
   "cell_type": "code",
   "execution_count": null,
   "id": "f5c5b103",
   "metadata": {},
   "outputs": [],
   "source": [
    "df1.T # Transpose data"
   ]
  },
  {
   "cell_type": "code",
   "execution_count": null,
   "id": "6b3de870",
   "metadata": {},
   "outputs": [],
   "source": [
    "df1.sort_index(axis=1, ascending=False) # Sort by an axis"
   ]
  },
  {
   "cell_type": "code",
   "execution_count": null,
   "id": "08bca4ad",
   "metadata": {},
   "outputs": [],
   "source": [
    "df1.sort_values(by='B') # Sort by values"
   ]
  },
  {
   "cell_type": "code",
   "execution_count": null,
   "id": "7578083a",
   "metadata": {},
   "outputs": [],
   "source": [
    "df1['A'] # Select column A"
   ]
  },
  {
   "cell_type": "code",
   "execution_count": null,
   "id": "88fbb9db",
   "metadata": {},
   "outputs": [],
   "source": [
    "df1[0:3] # Select index 0 to 2"
   ]
  },
  {
   "cell_type": "code",
   "execution_count": null,
   "id": "8629f15c",
   "metadata": {},
   "outputs": [],
   "source": [
    "df1['20130102':'20130104'] # Select from index matching the values"
   ]
  },
  {
   "cell_type": "code",
   "execution_count": null,
   "id": "8d063805",
   "metadata": {},
   "outputs": [],
   "source": [
    "df1.loc[:, ['A', 'B']] # Select on a multi-axis by label"
   ]
  },
  {
   "cell_type": "code",
   "execution_count": null,
   "id": "9d18526e",
   "metadata": {},
   "outputs": [],
   "source": [
    "df1.iloc[3] # Select via the position of the passed integers"
   ]
  },
  {
   "cell_type": "code",
   "execution_count": null,
   "id": "c0b95b24",
   "metadata": {},
   "outputs": [],
   "source": [
    "df1[df1 > 0] # Select values from a DataFrame where a boolean condition is met"
   ]
  },
  {
   "cell_type": "code",
   "execution_count": null,
   "id": "c8d39df3",
   "metadata": {},
   "outputs": [],
   "source": [
    "df2 = df1.copy() # Copy the df1 dataset to df2\n",
    "df2['E'] = ['one', 'one', 'two', 'three', 'four', 'three'] # Add column E with value\n",
    "df2[df2['E'].isin(['two', 'four'])] # Use isin method for filtering"
   ]
  },
  {
   "cell_type": "markdown",
   "id": "152f37dd",
   "metadata": {},
   "source": [
    "### Missing data\n",
    "\n",
    "Pandas primarily uses the value `np.nan` to represent missing data. It is not included in computations by default."
   ]
  },
  {
   "cell_type": "code",
   "execution_count": null,
   "id": "2ec7bf9e",
   "metadata": {},
   "outputs": [],
   "source": [
    "df = pd.DataFrame({'num_legs': [2, 4, np.nan, 0],\n",
    "                   'num_wings': [2, 0, 0, 0],\n",
    "                   'num_specimen_seen': [10, np.nan, 1, 8]},\n",
    "                   index=['falcon', 'dog', 'spider', 'fish'])"
   ]
  },
  {
   "cell_type": "code",
   "execution_count": null,
   "id": "04e6e894",
   "metadata": {},
   "outputs": [],
   "source": [
    "df.dropna(how='any') # Drop any rows that have missing data"
   ]
  },
  {
   "cell_type": "code",
   "execution_count": null,
   "id": "a6edc02d",
   "metadata": {},
   "outputs": [],
   "source": [
    "df.dropna(how='any', axis=1) # Drop any columns that have missing data"
   ]
  },
  {
   "cell_type": "code",
   "execution_count": null,
   "id": "a0af9f07",
   "metadata": {},
   "outputs": [],
   "source": [
    "df.fillna(value=5) # Fill missing data with value 5"
   ]
  },
  {
   "cell_type": "code",
   "execution_count": null,
   "id": "a8860cbd",
   "metadata": {},
   "outputs": [],
   "source": [
    "pd.isna(df) # To get boolean mask where data is missing"
   ]
  },
  {
   "cell_type": "markdown",
   "id": "eed1d99e",
   "metadata": {},
   "source": [
    "### File handling"
   ]
  },
  {
   "cell_type": "code",
   "execution_count": null,
   "id": "65ba3a24",
   "metadata": {},
   "outputs": [],
   "source": [
    "df = pd.DataFrame({'num_legs': [2, 4, np.nan, 0],\n",
    "                   'num_wings': [2, 0, 0, 0],\n",
    "                   'num_specimen_seen': [10, np.nan, 1, 8]},\n",
    "                   index=['falcon', 'dog', 'spider', 'fish'])"
   ]
  },
  {
   "cell_type": "code",
   "execution_count": null,
   "id": "c9a51b82",
   "metadata": {},
   "outputs": [],
   "source": [
    "df.to_csv('foo.csv') # Write to CSV file"
   ]
  },
  {
   "cell_type": "code",
   "execution_count": null,
   "id": "169e194a",
   "metadata": {},
   "outputs": [],
   "source": [
    "pd.read_csv('foo.csv') # Read from CSV file"
   ]
  },
  {
   "cell_type": "code",
   "execution_count": null,
   "id": "d64fef89",
   "metadata": {},
   "outputs": [],
   "source": [
    "df.to_excel('foo.xlsx', sheet_name='Sheet1') # Write to Microsoft Excel file"
   ]
  },
  {
   "cell_type": "code",
   "execution_count": null,
   "id": "afab2d53",
   "metadata": {},
   "outputs": [],
   "source": [
    "pd.read_excel('foo.xlsx', 'Sheet1', index_col=None, na_values=['NA']) # Read from Microsoft Excel file"
   ]
  },
  {
   "cell_type": "markdown",
   "id": "997d7205",
   "metadata": {},
   "source": [
    "### Plotting"
   ]
  },
  {
   "cell_type": "code",
   "execution_count": null,
   "id": "d5cfe2f7",
   "metadata": {},
   "outputs": [],
   "source": [
    "# Install Matplotlib using pip\n",
    "!pip install matplotlib"
   ]
  },
  {
   "cell_type": "code",
   "execution_count": null,
   "id": "85339064",
   "metadata": {},
   "outputs": [],
   "source": [
    "from matplotlib import pyplot as plt # Import Matplotlib module"
   ]
  },
  {
   "cell_type": "code",
   "execution_count": null,
   "id": "7a2f180a",
   "metadata": {},
   "outputs": [],
   "source": [
    "# Generate random time-series data\n",
    "ts = pd.Series(np.random.randn(1000),index=pd.date_range('1/1/2000', periods=1000)) \n",
    "ts.head()"
   ]
  },
  {
   "cell_type": "code",
   "execution_count": null,
   "id": "cfdd6e3b",
   "metadata": {},
   "outputs": [],
   "source": [
    "ts = ts.cumsum()\n",
    "ts.plot() # Plot graph\n",
    "plt.show()"
   ]
  },
  {
   "cell_type": "code",
   "execution_count": null,
   "id": "760bff2c",
   "metadata": {},
   "outputs": [],
   "source": [
    "# On a DataFrame, the plot() method is convenient to plot all of the columns with labels\n",
    "df4 = pd.DataFrame(np.random.randn(1000, 4), index=ts.index,columns=['A', 'B', 'C', 'D'])\n",
    "df4 = df4.cumsum()\n",
    "df4.head()"
   ]
  },
  {
   "cell_type": "code",
   "execution_count": null,
   "id": "458e3873",
   "metadata": {},
   "outputs": [],
   "source": [
    "df4.plot()\n",
    "plt.show()"
   ]
  }
 ],
 "metadata": {
  "kernelspec": {
   "display_name": "Python 3 (ipykernel)",
   "language": "python",
   "name": "python3"
  },
  "language_info": {
   "codemirror_mode": {
    "name": "ipython",
    "version": 3
   },
   "file_extension": ".py",
   "mimetype": "text/x-python",
   "name": "python",
   "nbconvert_exporter": "python",
   "pygments_lexer": "ipython3",
   "version": "3.9.7"
  }
 },
 "nbformat": 4,
 "nbformat_minor": 5
}
